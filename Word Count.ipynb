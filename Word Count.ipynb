{
 "cells": [
  {
   "cell_type": "code",
   "execution_count": 26,
   "metadata": {
    "collapsed": true
   },
   "outputs": [],
   "source": [
    "import nltk\n",
    "import pandas as pd\n",
    "import json\n",
    "import gc\n",
    "import re\n",
    "from nltk.util import ngrams\n",
    "from nltk.stem.wordnet import WordNetLemmatizer\n",
    "from datetime import datetime, timedelta\n",
    "from nltk.corpus import stopwords"
   ]
  },
  {
   "cell_type": "code",
   "execution_count": 14,
   "metadata": {},
   "outputs": [
    {
     "name": "stdout",
     "output_type": "stream",
     "text": [
      "All review : 73663\n",
      "review before 2016/08/01:  51388\n"
     ]
    }
   ],
   "source": [
    "with open(\"D://Project2017/Product review/pd_reviews.json\",encoding='utf8') as json_file:\n",
    "    jsonVariable = json.load(json_file)\n",
    "\n",
    "    \n",
    "review_raw = pd.DataFrame(jsonVariable)\n",
    "review = review_raw[['variation_asin','country','content','review_id','rating','review_date']]\n",
    "review = review.rename(columns = {'variation_asin':'asin'})\n",
    "review['review_date'] = review['review_date'].apply(pd.Series)\n",
    "review['review_date'] = pd.to_datetime(review['review_date'])\n",
    "\n",
    "print('All review :', review.shape[0])\n",
    "start_date = '2016-08-01'\n",
    "\n",
    "review = review[review['review_date']<start_date]\n",
    "\n",
    "\n",
    "print('review before 2016/08/01: ',review.shape[0])"
   ]
  },
  {
   "cell_type": "code",
   "execution_count": 15,
   "metadata": {},
   "outputs": [
    {
     "name": "stdout",
     "output_type": "stream",
     "text": [
      "Total length =  29\n",
      "Positive length =  26\n",
      "Negative length =  3\n"
     ]
    },
    {
     "data": {
      "text/plain": [
       "'I’ll admit I’d never heard of the BenQ brand but I don’t get out much so I asked the friendly neighbor guru about it. He said he knew nothing about the monitors but they had been around a while with projectors and components. I hope this monitor wasn’t a mistake.<br/><br/>It is important that you put the box on its side, top side facing up, and slide all of the foam packing out at once when you un-pack the monitor. The components are packed in three stacked layers of foam.<br/><br/>The top layer of foam has the hood. I don’t have a problem with ambient light so I decided not to use it. If you do, be sure to turn the non-reflective side in toward the screen.  The middle layer has the cords, stand, Osd unit and quick-start pamphlet<br/><br/>From here on it depends on your OS and whether you’re connecting to a new computer or one that has already been hooked to another monitor. There is no guarantee this will work with win 10, which is fine with me. Don’t have it, don’t want it. It works fine with win7 ultra.  It will take about thirty minutes for the monitor to reach stable state. Sort of “burning it in”.<br/><br/>For the big reveal: the color is stunning!! The color was calibrated at the factory (chart included } and I’m not going to mess with it until I use it for a while and figure out what I’m doing.  You can download their calibration software and I might borrow a Spyder 5 unit later if I need it. Right now I’m in the learning mode. I use Adobe, portraitpro and turbocad software.<br/><br/>I have to say their website is really lacking and hard to use. There is no place to register your monitor and very little info on the SW2700. Headquarters in Taiwan. You can get help at support@BenQ.com<br/><br/>BTW.I downloaded the instruction manual  on to another computer and worked from that. It\\'s easier for me that way.<br/><br/>Update: woo hoo! I found a DVI port on one of the all-in-one computers.  They look exactly alike but one is  a \"business\" model. I will be switching the monitor to have two monitors on one computer. If all does not go well I will be back to whine.<br/><br/>Update 9/14/2015: I found a DVI port on my computer but if you don’t have one you can buy a graphics adaptor, install the software and you’re ready to go.<br/><br/>I wanted to set this monitor up as a second monitor on an HP all-in-one computer so I could extend the picture to both monitors and “swipe” things across from one monitor to the other. When I plugged the monitor in it showed up in my “devices” with no problems so I spent a long time setting up the preferences with the monitors side-by-side, on the screen and extended. When I turned the monitor on I got a momentary BENQ logo then a black screen with “Out of range” in the corner. Their web-site is in Chinese (I think } so after trying everything I could think of I called their tech-support. At least they speak English but they have the same manual I do. They promised to call me back but, of course, didn’t.<br/><br/>I decided the problem was that my computer had 1920 X 1080 resolution and the BenQ is 2560X 1440 so I updated the driver on my Nvida card.  It worked! But the computer monitor flickered so I think the solution is to update to a new 2560 X 1440 video card.<br/><br/>Nevertheless the BenQ is fantastic. This is stuff most people probably already know but maybe it will help someone like me who gets the “out of range” note and doesn’t know why.'"
      ]
     },
     "execution_count": 15,
     "metadata": {},
     "output_type": "execute_result"
    }
   ],
   "source": [
    "###  B012UNOCJY  >>>> SW2700PT,  country  ='com'\n",
    "###  B012AQIOL8  >>>  UP2716\n",
    "\n",
    "all_text = review[(review['asin'] == 'B012UNOCJY') & (review['country'] == 'com')]\n",
    "star_mapping_tb = all_text[['review_id','rating']]\n",
    "all_text = all_text[['asin','review_id','content','rating','review_date']]\n",
    "\n",
    "print('Total length = ', all_text.shape[0])\n",
    "all_text.tail(10)\n",
    "\n",
    "\n",
    "review_pos = all_text[all_text['rating']>3]\n",
    "review_neg = all_text[all_text['rating']<=3]\n",
    "\n",
    "\n",
    "print('Positive length = ', review_pos.shape[0])\n",
    "print('Negative length = ', review_neg.shape[0])\n",
    "\n"
   ]
  },
  {
   "cell_type": "code",
   "execution_count": 48,
   "metadata": {
    "collapsed": true
   },
   "outputs": [],
   "source": [
    "remove_list = ['monitor','benq']\n",
    "\n",
    "                                \n",
    "def reg_exp(s_input):\n",
    "\n",
    "    s_input = re.sub('\\.\\-',',',s_input)\n",
    "    s_input = re.sub(r'(<br/>)=+(<br/>)','. ',s_input)\n",
    "    s_input = re.sub(r'<br/><br/>','. ',s_input)\n",
    "    s_input = re.sub(r'<br/>','. ',s_input)\n",
    "    s_input = re.sub('\\.{2,3}','. ',s_input)\n",
    "    s_input = re.sub(r':',': ',s_input)\n",
    "    s_input = re.sub(r'\\\"','',s_input)\n",
    "    s_input = re.sub(r'(“|”)','',s_input)\n",
    "    s_input = re.sub(r'\\’','\\'',s_input)\n",
    "    \n",
    "    #s_input = re.sub(\"(?<=[A-Za-z])[\\.](?=[A-Za-z])\", \". \", s_input)\n",
    "    s_input = re.sub('\\.\\s+','. ',s_input)\n",
    "    return s_input\n",
    "\n",
    "\n",
    "#### Remove Noun Phrases with 'monitor' and unigram ####\n",
    "def filter_words(list_all):\n",
    "    result = [keywords for keywords in list_all if ('monitor' not in keywords) and (len(keywords.split(' '))>=2)]\n",
    "    return result\n",
    "\n",
    "\n",
    "\n",
    "def common_word_graph(df_wordset,remove_list,n):\n",
    "    all_words = []\n",
    "\n",
    "    for l in df_wordset:\n",
    "        all_words = all_words+list(l)\n",
    "\n",
    "    \n",
    "    all_words = [word for word in all_words if word not in remove_list]\n",
    "    freqwords = nltk.FreqDist(all_words)\n",
    "\n",
    "    freqwords.plot(n,cumulative=False)\n",
    "\n",
    "    \n",
    "def common_word(df_wordset,remove_list,n):\n",
    "    all_words = []\n",
    "  \n",
    "    for l in df_wordset:\n",
    "        all_words = all_words+list(l)\n",
    "\n",
    "\n",
    "    all_words = [word for word in all_words if word not in remove_list]\n",
    "    freqwords = nltk.FreqDist(all_words)\n",
    "    \n",
    "    return freqwords.most_common()    \n",
    "    \n",
    "    \n",
    "def extract_unigram_noun(text):\n",
    "    stops = set(stopwords.words('english'))\n",
    "    lemmatizer = WordNetLemmatizer()\n",
    "    unigram_list = []\n",
    "    unigrams_tag = nltk.pos_tag(nltk.word_tokenize(text.lower()))\n",
    "    for u in unigrams_tag:\n",
    "        if(u[1][0] == 'N'):\n",
    "            unigram_list.append(u[0])\n",
    "    \n",
    "    unigrams = [lemmatizer.lemmatize(u) for u in unigram_list  if (u not in stops and u.isalnum())]\n",
    "    \n",
    "    return set(unigrams)\n",
    "    \n",
    "\n",
    "\n",
    "\n",
    "def extract_bigram(text):\n",
    "    \n",
    "    tokenized_words = nltk.word_tokenize(text.lower())\n",
    "    lemmatizer = WordNetLemmatizer()\n",
    "    \n",
    "    #lemma_words = [lemmatizer.lemmatize(u) for u in tokenized_words]\n",
    "    \n",
    "    # Filter out words that have punctuation and make everything lower-case\n",
    "    stops = set(stopwords.words('english'))\n",
    "    \n",
    "    \n",
    "    bigrams = [b for b in nltk.bigrams(tokenized_words) if (b[0] not in stops and b[1] not in stops) \n",
    "               and (b[0].isalnum() and b[1].isalnum()) and (b[0] not in remove_list and b[1] not in remove_list)\n",
    "               and (not b[0].isdigit() and not b[1].isdigit())]\n",
    "    \n",
    "    \n",
    "    \n",
    "    bigram_lemma_list = []\n",
    "    for i in bigrams:\n",
    "\n",
    "        b1 = lemmatizer.lemmatize(i[0])\n",
    "        b2 = lemmatizer.lemmatize(i[1])\n",
    "        bigram_tuple = (b1,b2)\n",
    "        bigram_lemma_list.append(bigram_tuple)\n",
    "    \n",
    "    bigram_list = []\n",
    "    for i in bigram_lemma_list:\n",
    "\n",
    "        bigram_string = ' '.join(i)\n",
    "        bigram_list.append(bigram_string)\n",
    "        \n",
    "        \n",
    " \n",
    "\n",
    "\n",
    "\n",
    "    \n",
    "\n",
    "        \n",
    "    \n",
    "    return set(bigram_list)\n",
    "   \n",
    "\n",
    "    \n",
    "def word_Lemmatizer(PatternWord):\n",
    "    lemma_list = []\n",
    "\n",
    "    for pattern in PatternWord:\n",
    "        lemmatizer = WordNetLemmatizer()\n",
    "        #word_list = pattern.split(' ')\n",
    "        #sub_list = []\n",
    "        for word in pattern.split(' '):\n",
    "            lemma = lemmatizer.lemmatize(word)\n",
    "       \n",
    "            #sub_list.append(lemma)\n",
    "        #sub_list = ' '.join(sub_list)\n",
    "            lemma_list.append(lemma)\n",
    "        \n",
    "    return lemma_list   \n",
    "\n"
   ]
  },
  {
   "cell_type": "code",
   "execution_count": 49,
   "metadata": {},
   "outputs": [
    {
     "name": "stderr",
     "output_type": "stream",
     "text": [
      "C:\\ProgramData\\Anaconda3\\lib\\site-packages\\ipykernel_launcher.py:1: SettingWithCopyWarning: \n",
      "A value is trying to be set on a copy of a slice from a DataFrame.\n",
      "Try using .loc[row_indexer,col_indexer] = value instead\n",
      "\n",
      "See the caveats in the documentation: http://pandas.pydata.org/pandas-docs/stable/indexing.html#indexing-view-versus-copy\n",
      "  \"\"\"Entry point for launching an IPython kernel.\n",
      "C:\\ProgramData\\Anaconda3\\lib\\site-packages\\ipykernel_launcher.py:4: SettingWithCopyWarning: \n",
      "A value is trying to be set on a copy of a slice from a DataFrame.\n",
      "Try using .loc[row_indexer,col_indexer] = value instead\n",
      "\n",
      "See the caveats in the documentation: http://pandas.pydata.org/pandas-docs/stable/indexing.html#indexing-view-versus-copy\n",
      "  after removing the cwd from sys.path.\n"
     ]
    }
   ],
   "source": [
    "review_pos['content'] = review_pos['content'].apply(reg_exp)\n",
    "unigram_pos = review_pos['content'].apply(extract_unigram_noun)\n",
    "\n",
    "review_neg['content'] = review_neg['content'].apply(reg_exp)\n",
    "unigram_neg = review_neg['content'].apply(extract_unigram_noun)\n"
   ]
  },
  {
   "cell_type": "code",
   "execution_count": 50,
   "metadata": {},
   "outputs": [
    {
     "data": {
      "image/png": "[encoded data removed]",
      "text/plain": [
       "<matplotlib.figure.Figure at 0x2750eb00>"
      ]
     },
     "metadata": {},
     "output_type": "display_data"
    },
    {
     "data": {
      "image/png": "[encoded data removed]",
      "text/plain": [
       "<matplotlib.figure.Figure at 0x293152e8>"
      ]
     },
     "metadata": {},
     "output_type": "display_data"
    },
    {
     "data": {
      "text/plain": [
       "61810    {site, chance, work, blue, dell, gradient, gra...\n",
       "61811            {picture, jumping, monitor, one, support}\n",
       "61835    {repair, amazon, edge, rendition, monitor, rep...\n",
       "Name: content, dtype: object"
      ]
     },
     "execution_count": 50,
     "metadata": {},
     "output_type": "execute_result"
    }
   ],
   "source": [
    "common_word_graph(unigram_pos,remove_list,15)\n",
    "unigram_pos\n",
    "\n",
    "common_word_graph(unigram_neg,remove_list,10)\n",
    "unigram_neg"
   ]
  },
  {
   "cell_type": "code",
   "execution_count": 51,
   "metadata": {},
   "outputs": [
    {
     "data": {
      "image/png": "[encoded data removed]",
      "text/plain": [
       "<matplotlib.figure.Figure at 0x29584630>"
      ]
     },
     "metadata": {},
     "output_type": "display_data"
    },
    {
     "data": {
      "image/png": "[encoded data removed]",
      "text/plain": [
       "<matplotlib.figure.Figure at 0x275b89e8>"
      ]
     },
     "metadata": {},
     "output_type": "display_data"
    }
   ],
   "source": [
    "bigram_pos = review_pos['content'].apply(extract_bigram)\n",
    "#bigram_pos  =bigram_pos.apply(word_Lemmatizer)\n",
    "common_word_graph(bigram_pos,remove_list,12)\n",
    "\n",
    "bigram_neg = review_neg['content'].apply(extract_bigram)\n",
    "#bigram_pos  =bigram_pos.apply(word_Lemmatizer)\n",
    "common_word_graph(bigram_neg,remove_list,12)"
   ]
  },
  {
   "cell_type": "code",
   "execution_count": 52,
   "metadata": {},
   "outputs": [
    {
     "name": "stdout",
     "output_type": "stream",
     "text": [
      "screens\n",
      "monitors\n"
     ]
    }
   ],
   "source": [
    "\n",
    "\n",
    "lemmatizer = WordNetLemmatizer()    \n",
    "\n",
    "b = [('screens','screenshoots'),('monitors','test')]\n",
    "bigram_lemma_list = []\n",
    "for i in b:\n",
    "    print(i[0])\n",
    "    b1 = lemmatizer.lemmatize(i[0])\n",
    "    b2 = lemmatizer.lemmatize(i[1])\n",
    "    bigram_tuple = (b1,b2)\n",
    "    bigram_lemma_list.append(bigram_tuple)\n",
    "\n",
    "\n",
    "    "
   ]
  },
  {
   "cell_type": "code",
   "execution_count": 53,
   "metadata": {},
   "outputs": [
    {
     "data": {
      "text/plain": [
       "[('screen', 'screenshoots'), ('monitor', 'test')]"
      ]
     },
     "execution_count": 53,
     "metadata": {},
     "output_type": "execute_result"
    }
   ],
   "source": [
    "bigram_lemma_list"
   ]
  },
  {
   "cell_type": "code",
   "execution_count": 231,
   "metadata": {},
   "outputs": [
    {
     "ename": "SyntaxError",
     "evalue": "invalid syntax (<ipython-input-231-7b867b2e56be>, line 1)",
     "output_type": "error",
     "traceback": [
      "\u001b[1;36m  File \u001b[1;32m\"<ipython-input-231-7b867b2e56be>\"\u001b[1;36m, line \u001b[1;32m1\u001b[0m\n\u001b[1;33m    def bigram_type_convert(bigram_tuple_list)\u001b[0m\n\u001b[1;37m                                              ^\u001b[0m\n\u001b[1;31mSyntaxError\u001b[0m\u001b[1;31m:\u001b[0m invalid syntax\n"
     ]
    }
   ],
   "source": [
    "def bigram_type_convert(bigram_tuple_list)\n",
    "\n",
    "    bigram_list = []\n",
    "    for i in bigram_tuple_list:\n",
    "\n",
    "        bigram_string = ' '.join(i)\n",
    "        bigram_list.append(bigram_string)\n",
    "        \n",
    "        \n"
   ]
  },
  {
   "cell_type": "code",
   "execution_count": 156,
   "metadata": {},
   "outputs": [
    {
     "ename": "AttributeError",
     "evalue": "'Series' object has no attribute 'colname'",
     "output_type": "error",
     "traceback": [
      "\u001b[1;31m---------------------------------------------------------------------------\u001b[0m",
      "\u001b[1;31mAttributeError\u001b[0m                            Traceback (most recent call last)",
      "\u001b[1;32m<ipython-input-156-15111aaf3caf>\u001b[0m in \u001b[0;36m<module>\u001b[1;34m()\u001b[0m\n\u001b[1;32m----> 1\u001b[1;33m \u001b[0mbigram_pos\u001b[0m\u001b[1;33m.\u001b[0m\u001b[0mcolname\u001b[0m\u001b[1;33m(\u001b[0m\u001b[1;33m)\u001b[0m\u001b[1;33m\u001b[0m\u001b[0m\n\u001b[0m",
      "\u001b[1;32mC:\\ProgramData\\Anaconda3\\lib\\site-packages\\pandas\\core\\generic.py\u001b[0m in \u001b[0;36m__getattr__\u001b[1;34m(self, name)\u001b[0m\n\u001b[0;32m   3079\u001b[0m             \u001b[1;32mif\u001b[0m \u001b[0mname\u001b[0m \u001b[1;32min\u001b[0m \u001b[0mself\u001b[0m\u001b[1;33m.\u001b[0m\u001b[0m_info_axis\u001b[0m\u001b[1;33m:\u001b[0m\u001b[1;33m\u001b[0m\u001b[0m\n\u001b[0;32m   3080\u001b[0m                 \u001b[1;32mreturn\u001b[0m \u001b[0mself\u001b[0m\u001b[1;33m[\u001b[0m\u001b[0mname\u001b[0m\u001b[1;33m]\u001b[0m\u001b[1;33m\u001b[0m\u001b[0m\n\u001b[1;32m-> 3081\u001b[1;33m             \u001b[1;32mreturn\u001b[0m \u001b[0mobject\u001b[0m\u001b[1;33m.\u001b[0m\u001b[0m__getattribute__\u001b[0m\u001b[1;33m(\u001b[0m\u001b[0mself\u001b[0m\u001b[1;33m,\u001b[0m \u001b[0mname\u001b[0m\u001b[1;33m)\u001b[0m\u001b[1;33m\u001b[0m\u001b[0m\n\u001b[0m\u001b[0;32m   3082\u001b[0m \u001b[1;33m\u001b[0m\u001b[0m\n\u001b[0;32m   3083\u001b[0m     \u001b[1;32mdef\u001b[0m \u001b[0m__setattr__\u001b[0m\u001b[1;33m(\u001b[0m\u001b[0mself\u001b[0m\u001b[1;33m,\u001b[0m \u001b[0mname\u001b[0m\u001b[1;33m,\u001b[0m \u001b[0mvalue\u001b[0m\u001b[1;33m)\u001b[0m\u001b[1;33m:\u001b[0m\u001b[1;33m\u001b[0m\u001b[0m\n",
      "\u001b[1;31mAttributeError\u001b[0m: 'Series' object has no attribute 'colname'"
     ]
    }
   ],
   "source": []
  },
  {
   "cell_type": "code",
   "execution_count": 138,
   "metadata": {},
   "outputs": [
    {
     "data": {
      "text/plain": [
       "\"I'll admit I'd never heard of the BenQ brand but I don't get out much so I asked the friendly neighbor guru about it. He said he knew nothing about the monitors but they had been around a while with projectors and components. I hope this monitor wasn't a mistake. It is important that you put the box on its side, top side facing up, and slide all of the foam packing out at once when you un-pack the monitor. The components are packed in three stacked layers of foam. The top layer of foam has the hood. I don't have a problem with ambient light so I decided not to use it. If you do, be sure to turn the non-reflective side in toward the screen. The middle layer has the cords, stand, Osd unit and quick-start pamphlet. From here on it depends on your OS and whether you're connecting to a new computer or one that has already been hooked to another monitor. There is no guarantee this will work with win 10, which is fine with me. Don't have it, don't want it. It works fine with win7 ultra. It will take about thirty minutes for the monitor to reach stable state. Sort of burning it in. For the big reveal:  the color is stunning!! The color was calibrated at the factory (chart included } and I'm not going to mess with it until I use it for a while and figure out what I'm doing. You can download their calibration software and I might borrow a Spyder 5 unit later if I need it. Right now I'm in the learning mode. I use Adobe, portraitpro and turbocad software. I have to say their website is really lacking and hard to use. There is no place to register your monitor and very little info on the SW2700. Headquarters in Taiwan. You can get help at support@BenQ.com. BTW.I downloaded the instruction manual  on to another computer and worked from that. It's easier for me that way. Update:  woo hoo! I found a DVI port on one of the all-in-one computers. They look exactly alike but one is  a business model. I will be switching the monitor to have two monitors on one computer. If all does not go well I will be back to whine. Update 9/14/2015:  I found a DVI port on my computer but if you don't have one you can buy a graphics adaptor, install the software and you're ready to go. I wanted to set this monitor up as a second monitor on an HP all-in-one computer so I could extend the picture to both monitors and swipe things across from one monitor to the other. When I plugged the monitor in it showed up in my devices with no problems so I spent a long time setting up the preferences with the monitors side-by-side, on the screen and extended. When I turned the monitor on I got a momentary BENQ logo then a black screen with Out of range in the corner. Their web-site is in Chinese (I think } so after trying everything I could think of I called their tech-support. At least they speak English but they have the same manual I do. They promised to call me back but, of course, didn't. I decided the problem was that my computer had 1920 X 1080 resolution and the BenQ is 2560X 1440 so I updated the driver on my Nvida card. It worked! But the computer monitor flickered so I think the solution is to update to a new 2560 X 1440 video card. Nevertheless the BenQ is fantastic. This is stuff most people probably already know but maybe it will help someone like me who gets the out of range note and doesn't know why.\""
      ]
     },
     "execution_count": 138,
     "metadata": {},
     "output_type": "execute_result"
    }
   ],
   "source": [
    "review_pos['content'].iloc[0]"
   ]
  },
  {
   "cell_type": "code",
   "execution_count": 170,
   "metadata": {},
   "outputs": [
    {
     "data": {
      "text/plain": [
       "{'a',\n",
       " 'about',\n",
       " 'above',\n",
       " 'after',\n",
       " 'again',\n",
       " 'against',\n",
       " 'ain',\n",
       " 'all',\n",
       " 'am',\n",
       " 'an',\n",
       " 'and',\n",
       " 'any',\n",
       " 'are',\n",
       " 'aren',\n",
       " 'as',\n",
       " 'at',\n",
       " 'be',\n",
       " 'because',\n",
       " 'been',\n",
       " 'before',\n",
       " 'being',\n",
       " 'below',\n",
       " 'between',\n",
       " 'both',\n",
       " 'but',\n",
       " 'by',\n",
       " 'can',\n",
       " 'couldn',\n",
       " 'd',\n",
       " 'did',\n",
       " 'didn',\n",
       " 'do',\n",
       " 'does',\n",
       " 'doesn',\n",
       " 'doing',\n",
       " 'don',\n",
       " 'down',\n",
       " 'during',\n",
       " 'each',\n",
       " 'few',\n",
       " 'for',\n",
       " 'from',\n",
       " 'further',\n",
       " 'had',\n",
       " 'hadn',\n",
       " 'has',\n",
       " 'hasn',\n",
       " 'have',\n",
       " 'haven',\n",
       " 'having',\n",
       " 'he',\n",
       " 'her',\n",
       " 'here',\n",
       " 'hers',\n",
       " 'herself',\n",
       " 'him',\n",
       " 'himself',\n",
       " 'his',\n",
       " 'how',\n",
       " 'i',\n",
       " 'if',\n",
       " 'in',\n",
       " 'into',\n",
       " 'is',\n",
       " 'isn',\n",
       " 'it',\n",
       " 'its',\n",
       " 'itself',\n",
       " 'just',\n",
       " 'll',\n",
       " 'm',\n",
       " 'ma',\n",
       " 'me',\n",
       " 'mightn',\n",
       " 'more',\n",
       " 'most',\n",
       " 'mustn',\n",
       " 'my',\n",
       " 'myself',\n",
       " 'needn',\n",
       " 'no',\n",
       " 'nor',\n",
       " 'not',\n",
       " 'now',\n",
       " 'o',\n",
       " 'of',\n",
       " 'off',\n",
       " 'on',\n",
       " 'once',\n",
       " 'only',\n",
       " 'or',\n",
       " 'other',\n",
       " 'our',\n",
       " 'ours',\n",
       " 'ourselves',\n",
       " 'out',\n",
       " 'over',\n",
       " 'own',\n",
       " 're',\n",
       " 's',\n",
       " 'same',\n",
       " 'shan',\n",
       " 'she',\n",
       " 'should',\n",
       " 'shouldn',\n",
       " 'so',\n",
       " 'some',\n",
       " 'such',\n",
       " 't',\n",
       " 'than',\n",
       " 'that',\n",
       " 'the',\n",
       " 'their',\n",
       " 'theirs',\n",
       " 'them',\n",
       " 'themselves',\n",
       " 'then',\n",
       " 'there',\n",
       " 'these',\n",
       " 'they',\n",
       " 'this',\n",
       " 'those',\n",
       " 'through',\n",
       " 'to',\n",
       " 'too',\n",
       " 'under',\n",
       " 'until',\n",
       " 'up',\n",
       " 've',\n",
       " 'very',\n",
       " 'was',\n",
       " 'wasn',\n",
       " 'we',\n",
       " 'were',\n",
       " 'weren',\n",
       " 'what',\n",
       " 'when',\n",
       " 'where',\n",
       " 'which',\n",
       " 'while',\n",
       " 'who',\n",
       " 'whom',\n",
       " 'why',\n",
       " 'will',\n",
       " 'with',\n",
       " 'won',\n",
       " 'wouldn',\n",
       " 'y',\n",
       " 'you',\n",
       " 'your',\n",
       " 'yours',\n",
       " 'yourself',\n",
       " 'yourselves'}"
      ]
     },
     "execution_count": 170,
     "metadata": {},
     "output_type": "execute_result"
    }
   ],
   "source": []
  },
  {
   "cell_type": "code",
   "execution_count": null,
   "metadata": {
    "collapsed": true
   },
   "outputs": [],
   "source": []
  }
 ],
 "metadata": {
  "kernelspec": {
   "display_name": "Python 3",
   "language": "python",
   "name": "python3"
  },
  "language_info": {
   "codemirror_mode": {
    "name": "ipython",
    "version": 3
   },
   "file_extension": ".py",
   "mimetype": "text/x-python",
   "name": "python",
   "nbconvert_exporter": "python",
   "pygments_lexer": "ipython3",
   "version": "3.6.1"
  }
 },
 "nbformat": 4,
 "nbformat_minor": 2
}
